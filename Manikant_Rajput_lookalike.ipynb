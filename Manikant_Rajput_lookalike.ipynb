{
 "cells": [
  {
   "cell_type": "markdown",
   "id": "8e0c066f-ea4e-46b3-89f8-07406ad9ea18",
   "metadata": {},
   "source": [
    "## Importing Data"
   ]
  },
  {
   "cell_type": "code",
   "execution_count": 1,
   "id": "ddecbff9-2236-479b-ab8c-a094264d6935",
   "metadata": {},
   "outputs": [],
   "source": [
    "import pandas as pd\n",
    "from sklearn.preprocessing import MinMaxScaler\n",
    "from sklearn.metrics.pairwise import cosine_similarity\n",
    "\n",
    "\n",
    "customers_df = pd.read_csv('Customers.csv')\n",
    "transactions_df = pd.read_csv('Transactions.csv')\n",
    "products_df = pd.read_csv('Products.csv')\n",
    "\n"
   ]
  },
  {
   "cell_type": "markdown",
   "id": "9c4772a6-bf08-41eb-939a-f64e81c3653f",
   "metadata": {},
   "source": [
    "## Preprocessing data and Aggregating, Grouping "
   ]
  },
  {
   "cell_type": "code",
   "execution_count": null,
   "id": "02d5c5a4-62ad-4196-94c2-93cca06da907",
   "metadata": {},
   "outputs": [],
   "source": [
    "# Preprocessing\n",
    "transactions_df['TransactionDate'] = pd.to_datetime(transactions_df['TransactionDate'], format='%d-%m-%Y %H:%M')\n",
    "\n",
    "# Aggregate transaction data per customer\n",
    "customer_transactions = (\n",
    "    transactions_df\n",
    "    .groupby('CustomerID')\n",
    "    .agg(\n",
    "        total_spent=('TotalValue', 'sum'),\n",
    "        total_quantity=('Quantity', 'sum'),\n",
    "        unique_products=('ProductID', 'nunique')\n",
    "    )\n",
    "    .reset_index()\n",
    ")\n",
    "\n",
    "# Merge customer data with transaction summaries\n",
    "customers_merged = customers_df.merge(customer_transactions, on='CustomerID', how='left').fillna(0)\n",
    "\n",
    "# Add product category preferences\n",
    "product_preferences = (\n",
    "    transactions_df\n",
    "    .merge(products_df, on='ProductID')\n",
    "    .groupby(['CustomerID', 'Category'])\n",
    "    .size()\n",
    "    .unstack(fill_value=0)\n",
    ")\n",
    "\n",
    "customers_final = customers_merged.join(product_preferences, on='CustomerID')\n",
    "\n",
    "# Handle missing values in product categories\n",
    "customers_final.fillna(0, inplace=True)\n",
    "\n",
    "# Normalize numeric features\n",
    "numeric_columns = customers_final.select_dtypes(include=['number']).columns\n",
    "scaler = MinMaxScaler()\n",
    "normalized_features = scaler.fit_transform(customers_final[numeric_columns])\n",
    "\n",
    "# Calculate similarity matrix\n",
    "similarity_matrix = cosine_similarity(normalized_features)\n",
    "\n",
    "# "
   ]
  },
  {
   "cell_type": "markdown",
   "id": "4a504abd-3552-4d44-8f29-b090303be67d",
   "metadata": {},
   "source": [
    "## Saving A looklike.csv file"
   ]
  },
  {
   "cell_type": "code",
   "execution_count": 3,
   "id": "6bf4cd3e-1b65-4f29-9d2b-4af69828a1c7",
   "metadata": {},
   "outputs": [
    {
     "ename": "SyntaxError",
     "evalue": "invalid syntax (188167287.py, line 1)",
     "output_type": "error",
     "traceback": [
      "\u001b[1;36m  Cell \u001b[1;32mIn[3], line 1\u001b[1;36m\u001b[0m\n\u001b[1;33m    Get top 3 lookalikes for the first 20 customers\u001b[0m\n\u001b[1;37m        ^\u001b[0m\n\u001b[1;31mSyntaxError\u001b[0m\u001b[1;31m:\u001b[0m invalid syntax\n"
     ]
    }
   ],
   "source": [
    "Get top 3 lookalikes for the first 20 customers\n",
    "customer_ids = customers_final['CustomerID'][:20]\n",
    "lookalike_map = {}\n",
    "\n",
    "for i, customer_id in enumerate(customer_ids):\n",
    "    similarity_scores = list(enumerate(similarity_matrix[i]))\n",
    "    sorted_scores = sorted(similarity_scores, key=lambda x: x[1], reverse=True)[1:4]\n",
    "    lookalike_map[customer_id] = [(customers_final['CustomerID'][j], score) for j, score in sorted_scores]\n",
    "\n",
    "\n",
    "Save lookalike map to CSV\n",
    "lookalike_df = pd.DataFrame({\n",
    "    'CustomerID': lookalike_map.keys(),\n",
    "    'Lookalikes': [str(lookalike_map[cust_id]) for cust_id in lookalike_map.keys()]\n",
    "})\n",
    "\n",
    "lookalike_df.to_csv('Lookalike.csv', index=False)\n"
   ]
  }
 ],
 "metadata": {
  "kernelspec": {
   "display_name": "Python 3 (ipykernel)",
   "language": "python",
   "name": "python3"
  },
  "language_info": {
   "codemirror_mode": {
    "name": "ipython",
    "version": 3
   },
   "file_extension": ".py",
   "mimetype": "text/x-python",
   "name": "python",
   "nbconvert_exporter": "python",
   "pygments_lexer": "ipython3",
   "version": "3.12.7"
  }
 },
 "nbformat": 4,
 "nbformat_minor": 5
}
